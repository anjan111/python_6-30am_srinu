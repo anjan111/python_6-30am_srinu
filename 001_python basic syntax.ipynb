{
 "cells": [
  {
   "cell_type": "code",
   "execution_count": 1,
   "metadata": {},
   "outputs": [
    {
     "name": "stdout",
     "output_type": "stream",
     "text": [
      "hello\n",
      "hai\n"
     ]
    }
   ],
   "source": [
    "#singnle line comment\n",
    "'''\n",
    "===>> this is \n",
    "multiline \n",
    "comment \n",
    "'''\n",
    "print \"hello\"# statement\n",
    "print \"hai\" #statement"
   ]
  },
  {
   "cell_type": "code",
   "execution_count": 2,
   "metadata": {},
   "outputs": [
    {
     "name": "stdout",
     "output_type": "stream",
     "text": [
      "['and', 'as', 'assert', 'break', 'class', 'continue', 'def', 'del', 'elif', 'else', 'except', 'exec', 'finally', 'for', 'from', 'global', 'if', 'import', 'in', 'is', 'lambda', 'not', 'or', 'pass', 'print', 'raise', 'return', 'try', 'while', 'with', 'yield']\n"
     ]
    }
   ],
   "source": [
    "import keyword\n",
    "print keyword.kwlist"
   ]
  },
  {
   "cell_type": "code",
   "execution_count": 3,
   "metadata": {},
   "outputs": [
    {
     "name": "stdout",
     "output_type": "stream",
     "text": [
      "123\n",
      "memory loc :  38043744\n"
     ]
    }
   ],
   "source": [
    "# identifier \n",
    "'''\n",
    "==>> User defined words / programmer defined \n",
    "\n",
    "==>> To give the name entities for variables, functions, classes \n",
    "\n",
    "'''\n",
    "# Rules\n",
    "'''\n",
    "===>> We can use alphabets  a - z / A - Z\n",
    "===>> We can use digits   0 - 9\n",
    "===>> we can use underwscore   _\n",
    "===>> don't start with digit\n",
    "===>> don't use keywords \n",
    "===>> don't use special characters  , . ?/)(*&^%$#!@!~){}[]\n",
    "'''\n",
    "# variable \n",
    "'''\n",
    "===>>> A name which can be used for to store the data with in memory loc\n",
    "\n",
    "===>>> A name which can be used for to access the data from memory loc\n",
    "\n",
    "Identier   = data\n",
    "\n",
    "id( variable) ===>>> memory loc\n",
    "'''\n",
    "name = 123 # to store the data into memory loc , with name is name\n",
    "print name  #from memory loc we are accessing the data\n",
    "print \"memory loc : \",id(name)"
   ]
  },
  {
   "cell_type": "code",
   "execution_count": 4,
   "metadata": {},
   "outputs": [
    {
     "name": "stdout",
     "output_type": "stream",
     "text": [
      "123\n"
     ]
    }
   ],
   "source": [
    "vS1_ =123\n",
    "print vS1_"
   ]
  },
  {
   "cell_type": "code",
   "execution_count": 6,
   "metadata": {},
   "outputs": [
    {
     "ename": "SyntaxError",
     "evalue": "invalid syntax (<ipython-input-6-40d62130010c>, line 1)",
     "output_type": "error",
     "traceback": [
      "\u001b[1;36m  File \u001b[1;32m\"<ipython-input-6-40d62130010c>\"\u001b[1;36m, line \u001b[1;32m1\u001b[0m\n\u001b[1;33m    3var =123\u001b[0m\n\u001b[1;37m       ^\u001b[0m\n\u001b[1;31mSyntaxError\u001b[0m\u001b[1;31m:\u001b[0m invalid syntax\n"
     ]
    }
   ],
   "source": [
    "3var =123"
   ]
  },
  {
   "cell_type": "code",
   "execution_count": 7,
   "metadata": {},
   "outputs": [
    {
     "ename": "SyntaxError",
     "evalue": "invalid syntax (<ipython-input-7-0634e6ff4616>, line 1)",
     "output_type": "error",
     "traceback": [
      "\u001b[1;36m  File \u001b[1;32m\"<ipython-input-7-0634e6ff4616>\"\u001b[1;36m, line \u001b[1;32m1\u001b[0m\n\u001b[1;33m    not = 345\u001b[0m\n\u001b[1;37m        ^\u001b[0m\n\u001b[1;31mSyntaxError\u001b[0m\u001b[1;31m:\u001b[0m invalid syntax\n"
     ]
    }
   ],
   "source": [
    "not = 345"
   ]
  },
  {
   "cell_type": "code",
   "execution_count": 8,
   "metadata": {},
   "outputs": [
    {
     "ename": "SyntaxError",
     "evalue": "invalid syntax (<ipython-input-8-2fb158da077a>, line 1)",
     "output_type": "error",
     "traceback": [
      "\u001b[1;36m  File \u001b[1;32m\"<ipython-input-8-2fb158da077a>\"\u001b[1;36m, line \u001b[1;32m1\u001b[0m\n\u001b[1;33m    na@r =124\u001b[0m\n\u001b[1;37m      ^\u001b[0m\n\u001b[1;31mSyntaxError\u001b[0m\u001b[1;31m:\u001b[0m invalid syntax\n"
     ]
    }
   ],
   "source": [
    "na@r =124"
   ]
  },
  {
   "cell_type": "code",
   "execution_count": 1,
   "metadata": {},
   "outputs": [
    {
     "name": "stdout",
     "output_type": "stream",
     "text": [
      "123\n",
      "45125376\n",
      "<type 'int'>\n"
     ]
    }
   ],
   "source": [
    "# Datatypes\n",
    "'''\n",
    "===>>> What type of data holded by variable\n",
    "\n",
    "'''\n",
    "#  2 types\n",
    "# type(var) ====>> datatype\n",
    "'''\n",
    "1. Fundamental Datatype\n",
    "---------------------------\n",
    "\n",
    "===>>>> A single variable can hold the single data \n",
    "\n",
    "    1. int ===>>> +ve /-ve / 0\n",
    "    2. float ==>>> 12.3343534\n",
    "    3. complex ==>>>   x +yj (  real + imgj)\n",
    "    4. bool   ===>>>   True / False\n",
    "    5. Nonetype ==>>> None\n",
    "'''\n",
    "var = 123\n",
    "print var\n",
    "print id(var)\n",
    "print type(var)"
   ]
  },
  {
   "cell_type": "code",
   "execution_count": 2,
   "metadata": {},
   "outputs": [
    {
     "name": "stdout",
     "output_type": "stream",
     "text": [
      "12.54553\n",
      "71598288\n",
      "<type 'float'>\n"
     ]
    }
   ],
   "source": [
    "\n",
    "var = 12.54553\n",
    "print var\n",
    "print id(var)\n",
    "print type(var)\n",
    "\n"
   ]
  },
  {
   "cell_type": "code",
   "execution_count": 3,
   "metadata": {},
   "outputs": [
    {
     "name": "stdout",
     "output_type": "stream",
     "text": [
      "(12+3j)\n",
      "72641136\n",
      "<type 'complex'>\n"
     ]
    }
   ],
   "source": [
    "var = 12 + 3j\n",
    "print var\n",
    "print id(var)\n",
    "print type(var)"
   ]
  },
  {
   "cell_type": "code",
   "execution_count": 4,
   "metadata": {},
   "outputs": [
    {
     "name": "stdout",
     "output_type": "stream",
     "text": [
      "True\n",
      "1364246248\n",
      "<type 'bool'>\n",
      "False\n",
      "1364245832\n",
      "<type 'bool'>\n"
     ]
    }
   ],
   "source": [
    "var = True\n",
    "print var\n",
    "print id(var)\n",
    "print type(var)\n",
    "var = False\n",
    "print var\n",
    "print id(var)\n",
    "print type(var)"
   ]
  },
  {
   "cell_type": "code",
   "execution_count": 5,
   "metadata": {},
   "outputs": [
    {
     "name": "stdout",
     "output_type": "stream",
     "text": [
      "None\n",
      "1364200568\n",
      "<type 'NoneType'>\n"
     ]
    }
   ],
   "source": [
    "var = None\n",
    "print var\n",
    "print id(var)\n",
    "print type(var)"
   ]
  },
  {
   "cell_type": "code",
   "execution_count": 6,
   "metadata": {},
   "outputs": [
    {
     "name": "stdout",
     "output_type": "stream",
     "text": [
      "python program\n",
      "79242656\n",
      "<type 'str'>\n"
     ]
    }
   ],
   "source": [
    "# 2. sequencial Datatype\n",
    "'''\n",
    "===>>> A single variable can hold the multiple data elments\n",
    "    1. str ===>>  \"\"\n",
    "    2. list ==>>  []\n",
    "    3. tuple ==>> ()\n",
    "    4. set ===>> {}\n",
    "    5. dict ==>> {key : val , item2}\n",
    "'''\n",
    "var = \"python program\"\n",
    "print var\n",
    "print id(var)\n",
    "print type(var)"
   ]
  },
  {
   "cell_type": "code",
   "execution_count": 7,
   "metadata": {},
   "outputs": [
    {
     "name": "stdout",
     "output_type": "stream",
     "text": [
      "[123, 34, 90]\n",
      "79212872\n",
      "<type 'list'>\n"
     ]
    }
   ],
   "source": [
    "var = [123,34,90]\n",
    "print var\n",
    "print id(var)\n",
    "print type(var)"
   ]
  },
  {
   "cell_type": "code",
   "execution_count": 8,
   "metadata": {},
   "outputs": [
    {
     "name": "stdout",
     "output_type": "stream",
     "text": [
      "(12, 343, 78)\n",
      "78655280\n",
      "<type 'tuple'>\n"
     ]
    }
   ],
   "source": [
    "var = (12,343,78)\n",
    "print var\n",
    "print id(var)\n",
    "print type(var)"
   ]
  },
  {
   "cell_type": "code",
   "execution_count": 9,
   "metadata": {},
   "outputs": [
    {
     "name": "stdout",
     "output_type": "stream",
     "text": [
      "set([56, 90, 12])\n",
      "69193512\n",
      "<type 'set'>\n"
     ]
    }
   ],
   "source": [
    "var = {12,56,90}\n",
    "print var\n",
    "print id(var)\n",
    "print type(var)"
   ]
  },
  {
   "cell_type": "code",
   "execution_count": 10,
   "metadata": {},
   "outputs": [
    {
     "name": "stdout",
     "output_type": "stream",
     "text": [
      "{56: 'hello', 12: 'soc'}\n",
      "72791720\n",
      "<type 'dict'>\n"
     ]
    }
   ],
   "source": [
    "var = {12 : \"soc\" , 56 : \"hello\"}\n",
    "print var\n",
    "print id(var)\n",
    "print type(var)"
   ]
  },
  {
   "cell_type": "code",
   "execution_count": 13,
   "metadata": {},
   "outputs": [
    {
     "name": "stdout",
     "output_type": "stream",
     "text": [
      "enter : 789\n",
      "789\n",
      "69599248\n",
      "<type 'int'>\n",
      "enter : 789\n",
      "789\n",
      "72567504\n",
      "<type 'str'>\n"
     ]
    }
   ],
   "source": [
    "# Python Built-in fucntions\n",
    "#------------------------\n",
    "#input() ===>>> reading the data from keyboard\n",
    "# raw_input() ==>> reading the data from keyboard\n",
    "#id() ===>> memory loc\n",
    "#type() ==>> datatype\n",
    "var = input(\"enter : \")\n",
    "print var\n",
    "print id(var)\n",
    "print type(var)\n",
    "var = raw_input(\"enter : \")\n",
    "print var\n",
    "print id(var)\n",
    "print type(var)"
   ]
  },
  {
   "cell_type": "code",
   "execution_count": 14,
   "metadata": {},
   "outputs": [
    {
     "name": "stdout",
     "output_type": "stream",
     "text": [
      "enter : 78.56\n",
      "78.56\n",
      "71598192\n",
      "<type 'float'>\n",
      "enter : 78.56\n",
      "78.56\n",
      "78675240\n",
      "<type 'str'>\n"
     ]
    }
   ],
   "source": [
    "var = input(\"enter : \")\n",
    "print var\n",
    "print id(var)\n",
    "print type(var)\n",
    "var = raw_input(\"enter : \")\n",
    "print var\n",
    "print id(var)\n",
    "print type(var)"
   ]
  },
  {
   "cell_type": "code",
   "execution_count": 15,
   "metadata": {},
   "outputs": [
    {
     "name": "stdout",
     "output_type": "stream",
     "text": [
      "enter : 9+6j\n",
      "(9+6j)\n",
      "72641072\n",
      "<type 'complex'>\n",
      "enter : 9+6j\n",
      "9+6j\n",
      "72568344\n",
      "<type 'str'>\n"
     ]
    }
   ],
   "source": [
    "var = input(\"enter : \")\n",
    "print var\n",
    "print id(var)\n",
    "print type(var)\n",
    "var = raw_input(\"enter : \")\n",
    "print var\n",
    "print id(var)\n",
    "print type(var)"
   ]
  },
  {
   "cell_type": "code",
   "execution_count": 17,
   "metadata": {},
   "outputs": [
    {
     "name": "stdout",
     "output_type": "stream",
     "text": [
      "enter : 89\n",
      "89\n",
      "45124200\n",
      "<type 'int'>\n",
      "enter : 89\n",
      "89\n",
      "72567344\n",
      "<type 'str'>\n"
     ]
    }
   ],
   "source": [
    "var = input(\"enter : \")\n",
    "print var\n",
    "print id(var)\n",
    "print type(var)\n",
    "var = raw_input(\"enter : \")\n",
    "print var\n",
    "print id(var)\n",
    "print type(var)"
   ]
  },
  {
   "cell_type": "code",
   "execution_count": 18,
   "metadata": {},
   "outputs": [
    {
     "name": "stdout",
     "output_type": "stream",
     "text": [
      "enter 45\n",
      "enter 56\n",
      "4556\n"
     ]
    }
   ],
   "source": [
    "a = raw_input(\"enter \")\n",
    "b = raw_input(\"enter \")\n",
    "print a+b"
   ]
  },
  {
   "cell_type": "code",
   "execution_count": 19,
   "metadata": {},
   "outputs": [
    {
     "name": "stdout",
     "output_type": "stream",
     "text": [
      "enter int56\n",
      "<type 'str'>\n",
      "<type 'int'>\n"
     ]
    }
   ],
   "source": [
    "#datatype conversion\n",
    "#raw_input--->>int ---> str type --->> int()---> int\n",
    "a = raw_input(\"enter int\")\n",
    "print type(a)\n",
    "a = int(a)\n",
    "print type(a)"
   ]
  },
  {
   "cell_type": "code",
   "execution_count": 20,
   "metadata": {},
   "outputs": [
    {
     "name": "stdout",
     "output_type": "stream",
     "text": [
      "enter int78.564\n",
      "<type 'str'>\n",
      "<type 'float'>\n"
     ]
    }
   ],
   "source": [
    "#datatype conversion\n",
    "#raw_input--->>float ---> str type --->> float()---> float\n",
    "a = raw_input(\"enter int\")\n",
    "print type(a)\n",
    "a = float(a)\n",
    "print type(a)"
   ]
  },
  {
   "cell_type": "code",
   "execution_count": 21,
   "metadata": {},
   "outputs": [
    {
     "name": "stdout",
     "output_type": "stream",
     "text": [
      "enter complex7+8j\n",
      "<type 'str'>\n",
      "<type 'complex'>\n"
     ]
    }
   ],
   "source": [
    "# int()\n",
    "# float()\n",
    "# complex()\n",
    "# bool()\n",
    "# str()\n",
    "#list()\n",
    "#tuple()\n",
    "# set()\n",
    "# dict()\n",
    "\n",
    "a = raw_input(\"enter complex\")\n",
    "print type(a)\n",
    "a = complex(a)\n",
    "print type(a)"
   ]
  },
  {
   "cell_type": "code",
   "execution_count": 22,
   "metadata": {},
   "outputs": [
    {
     "name": "stdout",
     "output_type": "stream",
     "text": [
      "enter intTrue\n",
      "<type 'str'>\n",
      "<type 'bool'>\n"
     ]
    }
   ],
   "source": [
    "#datatype conversion\n",
    "#raw_input--->>bool ---> str type --->> bool()---> bool\n",
    "a = raw_input(\"ente int\")\n",
    "print type(a)\n",
    "a = bool(a)\n",
    "print type(a)"
   ]
  },
  {
   "cell_type": "code",
   "execution_count": 23,
   "metadata": {},
   "outputs": [
    {
     "name": "stdout",
     "output_type": "stream",
     "text": [
      "enter list[1,2,3]\n",
      "<type 'str'>\n",
      "<type 'list'>\n"
     ]
    }
   ],
   "source": [
    "\n",
    "a = raw_input(\"enter list\")\n",
    "print type(a)\n",
    "a = list(a)\n",
    "print type(a)"
   ]
  },
  {
   "cell_type": "code",
   "execution_count": 25,
   "metadata": {},
   "outputs": [
    {
     "name": "stdout",
     "output_type": "stream",
     "text": [
      "3\n",
      "12\n",
      "90\n",
      "147\n"
     ]
    }
   ],
   "source": [
    "# len() ===>> no know the no of element\n",
    "# max() ==>> biggest \n",
    "# min() ===>>smallest\n",
    "# sum()===>> sum of all\n",
    "var =[12,45,90]\n",
    "print len(var)# 3\n",
    "print min(var)# 12\n",
    "print max(var)#90\n",
    "print sum(var)#147"
   ]
  },
  {
   "cell_type": "code",
   "execution_count": null,
   "metadata": {},
   "outputs": [],
   "source": []
  },
  {
   "cell_type": "code",
   "execution_count": null,
   "metadata": {},
   "outputs": [],
   "source": []
  }
 ],
 "metadata": {
  "kernelspec": {
   "display_name": "Python 2",
   "language": "python",
   "name": "python2"
  },
  "language_info": {
   "codemirror_mode": {
    "name": "ipython",
    "version": 2
   },
   "file_extension": ".py",
   "mimetype": "text/x-python",
   "name": "python",
   "nbconvert_exporter": "python",
   "pygments_lexer": "ipython2",
   "version": "2.7.16"
  }
 },
 "nbformat": 4,
 "nbformat_minor": 2
}
