{
 "cells": [
  {
   "cell_type": "markdown",
   "metadata": {},
   "source": [
    "# operator\n",
    "\n",
    "====>>> The symbols are used for to do the data processing on your data\n",
    "\n",
    "# Operation :-\n",
    "\n",
    "===>>> The Process of the doing the data processing \n",
    "\n",
    "# Operands\n",
    "\n",
    "===>>> The data with in the operation\n",
    "\n",
    "# Based on 2 ways \n",
    "\n",
    "1. Based on operands \n",
    "\n",
    "    1. unary operator\n",
    "    ----------------\n",
    "    \n",
    "    ===>>> A single operator operating on single data \n",
    "    \n",
    "        1. unary minus   -\n",
    "        \n",
    "        2. unary plus    +\n",
    "        \n",
    "        3. Logical Not   not\n",
    "        \n",
    "        4. bitwise not     ~\n",
    "    \n",
    "    \n",
    "    2. Binary operator\n",
    "    -------------------\n",
    "    \n",
    "    ===>>> A single operator operating on 2 operands \n",
    "    \n",
    "        1. addition \n",
    "        \n",
    "        2. sutraction\n",
    "\n",
    "2. based on operation :-\n",
    "-----------------------\n",
    "\n",
    "===>>> arithmetic Operator\n",
    "\n",
    "===>>  relational Operator\n",
    "\n",
    "===>>  Logical operator\n",
    "\n",
    "===>> Assignment Operator\n",
    "\n",
    "===>> Special operator\n",
    "\n",
    "===>> bitwise operator"
   ]
  },
  {
   "cell_type": "code",
   "execution_count": null,
   "metadata": {},
   "outputs": [],
   "source": []
  },
  {
   "cell_type": "code",
   "execution_count": 3,
   "metadata": {},
   "outputs": [
    {
     "name": "stdout",
     "output_type": "stream",
     "text": [
      "19\n",
      "-34\n",
      "-19\n",
      "34\n",
      "False\n",
      "True\n",
      "-35\n",
      "-1\n"
     ]
    }
   ],
   "source": [
    "#######################  Unary operator #############3\n",
    "# Unary minus\n",
    "\n",
    "a = -19\n",
    "b = 34\n",
    "print -a\n",
    "print -b\n",
    "\n",
    "# unary plus \n",
    "print +a\n",
    "print +b\n",
    "\n",
    "# logical not \n",
    "print not 34\n",
    "print not 0\n",
    "\n",
    "# bitwise not\n",
    "print ~34\n",
    "print ~0"
   ]
  },
  {
   "cell_type": "code",
   "execution_count": 4,
   "metadata": {},
   "outputs": [
    {
     "name": "stdout",
     "output_type": "stream",
     "text": [
      "13\n",
      "9\n",
      "22\n",
      "5\n"
     ]
    }
   ],
   "source": [
    "# binary operator\n",
    "a  = 11\n",
    "b = 2\n",
    "print  a+b\n",
    "print a -b\n",
    "print a*b\n",
    "print a/b\n"
   ]
  },
  {
   "cell_type": "code",
   "execution_count": 5,
   "metadata": {},
   "outputs": [
    {
     "name": "stdout",
     "output_type": "stream",
     "text": [
      "enter int : 11\n",
      "enter int : 2\n",
      "13\n",
      "9\n",
      "22\n",
      "5\n",
      "1\n"
     ]
    }
   ],
   "source": [
    "# Based on Operation\n",
    "\n",
    "# Arithmetic Operator\n",
    "'''\n",
    "===>> Addition       +\n",
    "===>> subtraction    -\n",
    "===>>  multiplication *\n",
    "===>> Division        /\n",
    "===>> Modulus         %\n",
    "'''\n",
    "a = input(\"enter int : \")\n",
    "b = input(\"enter int : \")\n",
    "print a+b\n",
    "print a-b\n",
    "print a*b\n",
    "print a/b\n",
    "print a%b\n"
   ]
  },
  {
   "cell_type": "code",
   "execution_count": 6,
   "metadata": {},
   "outputs": [
    {
     "name": "stdout",
     "output_type": "stream",
     "text": [
      "enter float : 11.0\n",
      "enter float : 2.0\n",
      "13.0\n",
      "9.0\n",
      "22.0\n",
      "5.5\n",
      "1.0\n"
     ]
    }
   ],
   "source": [
    "a = input(\"enter float : \")\n",
    "b = input(\"enter float : \")\n",
    "print a+b\n",
    "print a-b\n",
    "print a*b\n",
    "print a/b\n",
    "print a%b\n"
   ]
  },
  {
   "cell_type": "code",
   "execution_count": 8,
   "metadata": {},
   "outputs": [
    {
     "name": "stdout",
     "output_type": "stream",
     "text": [
      "enter int : 11\n",
      "enter int : 5\n",
      "2\n",
      "2\n",
      "enter float : 11.0\n",
      "enter float : 2.0\n",
      "5.5\n",
      "5.0\n"
     ]
    }
   ],
   "source": [
    "# exponant   **\n",
    "# floor devision  //\n",
    "a = input(\"enter int : \")\n",
    "b = input(\"enter int : \")\n",
    "print a/b\n",
    "print a//b\n",
    "a = input(\"enter float : \")\n",
    "b = input(\"enter float : \")\n",
    "print a/b\n",
    "print a//b\n",
    "\n",
    "\n",
    "\n"
   ]
  },
  {
   "cell_type": "code",
   "execution_count": null,
   "metadata": {},
   "outputs": [],
   "source": []
  },
  {
   "cell_type": "code",
   "execution_count": 7,
   "metadata": {},
   "outputs": [
    {
     "name": "stdout",
     "output_type": "stream",
     "text": [
      "enter int : 10\n",
      "enter int : 2\n",
      "12\n",
      "8\n",
      "20\n",
      "5\n",
      "0\n",
      "100\n"
     ]
    }
   ],
   "source": [
    "a = input(\"enter int : \")\n",
    "b = input(\"enter int : \")\n",
    "print a+b\n",
    "print a-b\n",
    "print a*b\n",
    "print a/b\n",
    "print a%b\n",
    "print a ** b  # a power of b"
   ]
  },
  {
   "cell_type": "code",
   "execution_count": 9,
   "metadata": {},
   "outputs": [
    {
     "name": "stdout",
     "output_type": "stream",
     "text": [
      "enter rad of circle in meters : 5.5\n",
      "area :  95.0714285714  sq.m\n"
     ]
    }
   ],
   "source": [
    "# wap find the area of circle\n",
    "'''\n",
    "area = pi*(r**2)\n",
    "'''\n",
    "r = input(\"enter rad of circle in meters : \")\n",
    "pi = 22.0/7\n",
    "area = pi*(r**2)\n",
    "print \"area : \",area,\" sq.m\""
   ]
  },
  {
   "cell_type": "code",
   "execution_count": null,
   "metadata": {},
   "outputs": [],
   "source": [
    "# wap find the area of square"
   ]
  },
  {
   "cell_type": "code",
   "execution_count": 10,
   "metadata": {},
   "outputs": [],
   "source": [
    "# wap find the area of rectangle"
   ]
  },
  {
   "cell_type": "code",
   "execution_count": 11,
   "metadata": {},
   "outputs": [],
   "source": [
    "# wap find the area of triangle"
   ]
  },
  {
   "cell_type": "code",
   "execution_count": 12,
   "metadata": {},
   "outputs": [],
   "source": [
    "# wap converts radian to degrees vice versa "
   ]
  },
  {
   "cell_type": "code",
   "execution_count": 13,
   "metadata": {},
   "outputs": [],
   "source": [
    "# wap find area and volume of cube "
   ]
  },
  {
   "cell_type": "code",
   "execution_count": 14,
   "metadata": {},
   "outputs": [],
   "source": [
    "# wap find the simple interst "
   ]
  },
  {
   "cell_type": "markdown",
   "metadata": {},
   "source": [
    "# Relational operator\n",
    "\n",
    "===>> To compare any two opearands --->> comparision oper\n",
    "\n",
    "===>> To give the relationship between any 2 operands \n",
    "\n",
    "===>> we can use with conditional statements as a condition, conditional \n",
    "\n",
    "===>> boolean operators\n",
    "\n",
    "# types \n",
    "\n",
    "1. lessthan   <\n",
    "\n",
    "2. greaterthan >\n",
    "\n",
    "3. equal to   ==\n",
    "\n",
    "4. not equal  !=\n",
    "\n",
    "5. lessthan or equal to  <=\n",
    "\n",
    "6. greaterthan or equal to  >="
   ]
  },
  {
   "cell_type": "code",
   "execution_count": 15,
   "metadata": {},
   "outputs": [
    {
     "name": "stdout",
     "output_type": "stream",
     "text": [
      "enter int : 14\n",
      "enter int : 14\n",
      "False\n",
      "False\n",
      "True\n",
      "False\n",
      "True\n",
      "True\n"
     ]
    }
   ],
   "source": [
    "a = input(\"enter int : \")\n",
    "b = input(\"enter int : \")\n",
    "print a<b\n",
    "print a>b\n",
    "print a==b\n",
    "print a!=b\n",
    "print a<=b\n",
    "print a >=b\n"
   ]
  },
  {
   "cell_type": "code",
   "execution_count": 17,
   "metadata": {},
   "outputs": [
    {
     "name": "stdout",
     "output_type": "stream",
     "text": [
      "enter some : 15\n",
      "5  is the factor of  15  is  True\n"
     ]
    }
   ],
   "source": [
    "# wap find the given number factor of 5 or not\n",
    "num = input(\"enter some : \")\n",
    "print 5,\" is the factor of \",num,\" is \",(num%5==0)"
   ]
  },
  {
   "cell_type": "code",
   "execution_count": null,
   "metadata": {},
   "outputs": [],
   "source": [
    "# wap given number is even number or not "
   ]
  },
  {
   "cell_type": "code",
   "execution_count": null,
   "metadata": {},
   "outputs": [],
   "source": [
    "# wap given number is negative or not"
   ]
  },
  {
   "cell_type": "code",
   "execution_count": 1,
   "metadata": {},
   "outputs": [
    {
     "name": "stdout",
     "output_type": "stream",
     "text": [
      "123\n",
      "123\n",
      "15126\n"
     ]
    }
   ],
   "source": [
    "# Assignment operator   =\n",
    "var = 123  # constant to variable assignment\n",
    "b = var   # variable to variable \n",
    "c = var*b+12-15 # expression to variable\n",
    "print var\n",
    "print b\n",
    "print c"
   ]
  },
  {
   "cell_type": "code",
   "execution_count": 2,
   "metadata": {},
   "outputs": [
    {
     "name": "stdout",
     "output_type": "stream",
     "text": [
      "14\n",
      "14\n"
     ]
    }
   ],
   "source": [
    "#Operation then update\n",
    "a = 12\n",
    "b = 2\n",
    "a = a+b # addition operation  then update\n",
    "print a\n",
    "a = 12\n",
    "b =2\n",
    "a += b # a = a+b\n",
    "print a"
   ]
  },
  {
   "cell_type": "code",
   "execution_count": 3,
   "metadata": {},
   "outputs": [
    {
     "name": "stdout",
     "output_type": "stream",
     "text": [
      "10\n",
      "10\n"
     ]
    }
   ],
   "source": [
    "a = 12\n",
    "b = 2\n",
    "a = a-b # subtraction operation  then update\n",
    "print a\n",
    "a = 12\n",
    "b =2\n",
    "a -= b # a = a-b\n",
    "print a"
   ]
  },
  {
   "cell_type": "code",
   "execution_count": 4,
   "metadata": {},
   "outputs": [],
   "source": [
    "# * , / , % , ** , // ---->>> we can apply for assignment operator"
   ]
  },
  {
   "cell_type": "code",
   "execution_count": 6,
   "metadata": {},
   "outputs": [
    {
     "name": "stdout",
     "output_type": "stream",
     "text": [
      "True\n",
      "False\n",
      "False\n",
      "True\n",
      "enter name of you :\"anjan\"\n",
      "anjan  is available in ['anjan', 'dharani', 'pankaj', 'usha', 'kapoor', 'aiman']   or not  True\n"
     ]
    }
   ],
   "source": [
    "# Special Operator ( True / False)\n",
    "'''\n",
    "===>>> Membership operator :-\n",
    "---------------------------\n",
    "===>>> To check the one element is available with in the group of elemment\n",
    "\n",
    "            in : - \n",
    "                True --->> Available\n",
    "                False -->> Not avaiable\n",
    "            \n",
    "            not in :-\n",
    "                False --->> available\n",
    "                True  -->>. Not available\n",
    "\n",
    "===>>> Identiity Operator\n",
    "====>>>> To check the memory loc is same or not\n",
    "id() ---<< memory loc\n",
    "\n",
    "            is : \n",
    "             True --->> same\n",
    "             False -->> different\n",
    "             \n",
    "            is not :\n",
    "            \n",
    "                True --->  different \n",
    "                False --> same \n",
    "\n",
    "\n",
    "\n",
    "\n",
    "\n",
    "\n",
    "'''\n",
    "\n",
    "a = 90\n",
    "b = [34,90,78,23]\n",
    "c = 100\n",
    "print a in b # True\n",
    "print c in b # Flase\n",
    "print a not in b # False\n",
    "print c not in b # True\n",
    "\n",
    "# wap to check are member of our what's group\n",
    "whats_app = [\"anjan\" , \"dharani\",\"pankaj\",\"usha\",\"kapoor\",\"aiman\"]\n",
    "person = input(\"enter name of you :\")\n",
    "print person,\" is available in\",whats_app,\"  or not \", person in whats_app"
   ]
  },
  {
   "cell_type": "code",
   "execution_count": 9,
   "metadata": {},
   "outputs": [
    {
     "name": "stdout",
     "output_type": "stream",
     "text": [
      "[1, 2, 3]\n",
      "[1, 2, 3]\n",
      "83849032\n",
      "85040328\n",
      "False\n",
      "True\n"
     ]
    }
   ],
   "source": [
    "a = [1,2,3]\n",
    "b = [1,2,3]\n",
    "print a\n",
    "print b\n",
    "print id(a)\n",
    "print id(b)\n",
    "print a is b\n",
    "print a is not b"
   ]
  },
  {
   "cell_type": "code",
   "execution_count": 10,
   "metadata": {},
   "outputs": [
    {
     "name": "stdout",
     "output_type": "stream",
     "text": [
      "[1, 2, 3]\n",
      "[1, 2, 3]\n",
      "85041096\n",
      "85041096\n",
      "True\n",
      "False\n"
     ]
    }
   ],
   "source": [
    "a = [1,2,3]\n",
    "b = a\n",
    "print a\n",
    "print b\n",
    "print id(a)\n",
    "print id(b)\n",
    "print a is b\n",
    "print a is not b"
   ]
  },
  {
   "cell_type": "code",
   "execution_count": 11,
   "metadata": {},
   "outputs": [
    {
     "name": "stdout",
     "output_type": "stream",
     "text": [
      "[1, 2, 3]\n",
      "[1, 2, 3]\n",
      "[1, 2, 3, 100]\n",
      "[1, 2, 3, 100]\n"
     ]
    }
   ],
   "source": [
    "a = [1,2,3]\n",
    "b = a\n",
    "print a\n",
    "print b\n",
    "a.append(100)\n",
    "print a\n",
    "print b"
   ]
  },
  {
   "cell_type": "code",
   "execution_count": 14,
   "metadata": {},
   "outputs": [
    {
     "name": "stdout",
     "output_type": "stream",
     "text": [
      "[1, 2, 3]\n",
      "[1, 2, 3]\n",
      "[1, 2, 3, 100]\n",
      "[1, 2, 3]\n"
     ]
    }
   ],
   "source": [
    "a = [1,2,3]\n",
    "b = [1,2,3]\n",
    "print a\n",
    "print b\n",
    "a.append(100)\n",
    "print a\n",
    "print b"
   ]
  },
  {
   "cell_type": "code",
   "execution_count": null,
   "metadata": {},
   "outputs": [],
   "source": []
  },
  {
   "cell_type": "code",
   "execution_count": 13,
   "metadata": {},
   "outputs": [
    {
     "data": {
      "text/plain": [
       "['__add__',\n",
       " '__class__',\n",
       " '__contains__',\n",
       " '__delattr__',\n",
       " '__delitem__',\n",
       " '__delslice__',\n",
       " '__doc__',\n",
       " '__eq__',\n",
       " '__format__',\n",
       " '__ge__',\n",
       " '__getattribute__',\n",
       " '__getitem__',\n",
       " '__getslice__',\n",
       " '__gt__',\n",
       " '__hash__',\n",
       " '__iadd__',\n",
       " '__imul__',\n",
       " '__init__',\n",
       " '__iter__',\n",
       " '__le__',\n",
       " '__len__',\n",
       " '__lt__',\n",
       " '__mul__',\n",
       " '__ne__',\n",
       " '__new__',\n",
       " '__reduce__',\n",
       " '__reduce_ex__',\n",
       " '__repr__',\n",
       " '__reversed__',\n",
       " '__rmul__',\n",
       " '__setattr__',\n",
       " '__setitem__',\n",
       " '__setslice__',\n",
       " '__sizeof__',\n",
       " '__str__',\n",
       " '__subclasshook__',\n",
       " 'append',\n",
       " 'count',\n",
       " 'extend',\n",
       " 'index',\n",
       " 'insert',\n",
       " 'pop',\n",
       " 'remove',\n",
       " 'reverse',\n",
       " 'sort']"
      ]
     },
     "execution_count": 13,
     "metadata": {},
     "output_type": "execute_result"
    }
   ],
   "source": [
    "dir(list)"
   ]
  },
  {
   "cell_type": "code",
   "execution_count": null,
   "metadata": {},
   "outputs": [],
   "source": [
    "# logical operator\n",
    "\n",
    "#int --->>         0 ---> False case        , +ve/ -ve ---> True case\n",
    "#float-->>         0.000 --> False case     , +ve/-ve --->> True case\n",
    "# complex-->       0 +0j--> False case,        otherwise -->> True case\n",
    "# Nonetype -->>    None --->. False\n",
    "# str , list, \n",
    "#tuple, set,dict-->  len is 0 -->. False,   otherwise --> True"
   ]
  },
  {
   "cell_type": "code",
   "execution_count": 20,
   "metadata": {},
   "outputs": [
    {
     "name": "stdout",
     "output_type": "stream",
     "text": [
      "False\n",
      "True\n"
     ]
    }
   ],
   "source": [
    "# logical not --->>> not \n",
    "'''\n",
    "--->> unary operator\n",
    "input --->>> False case =====>>> res ===>> True\n",
    "input -->>> True case =======>>> res ===>> False\n",
    "'''\n",
    "print not 90 # False\n",
    "print not [] # True\n"
   ]
  },
  {
   "cell_type": "code",
   "execution_count": 4,
   "metadata": {},
   "outputs": [
    {
     "name": "stdout",
     "output_type": "stream",
     "text": [
      "set([12, 45])\n",
      "set([8, 12])\n",
      "90.455\n"
     ]
    }
   ],
   "source": [
    "# logical or  ---->>>  or\n",
    "\n",
    "'''\n",
    "input1   or   input2 =====>>>> ( input1  /  input2)\n",
    "\n",
    "\n",
    "====>>>> Logical or operator result which is fully depands on  input1 \n",
    "\n",
    "input1 ---->>> True case ---->> then result --->>> input1\n",
    "\n",
    "input1 ---->>> False case --->> then result ----->> input2\n",
    "'''\n",
    "print  {12,45}  or [12,56,34] # {12,45}\n",
    "print \"\"  or {12,8} #{12,8}\n",
    "print []  or 90.455"
   ]
  },
  {
   "cell_type": "code",
   "execution_count": 7,
   "metadata": {},
   "outputs": [
    {
     "name": "stdout",
     "output_type": "stream",
     "text": [
      "[12, 56, 34]\n",
      "\n",
      "[]\n"
     ]
    }
   ],
   "source": [
    "# Logical AND  ---->>> and \n",
    "\n",
    "'''\n",
    "input1   and   input2 =====>>>> ( input1  /  input2)\n",
    "\n",
    "\n",
    "====>>>> Logical and  operator result which is fully depands on  input1 \n",
    "\n",
    "input1 ---->>> True case ---->> then result --->>> input2\n",
    "\n",
    "input1 ---->>> False case --->> then result ----->> input1\n",
    "'''\n",
    "print  {12,45}  and [12,56,34] # [12,56,34]\n",
    "print \"\"  and {12,8} #\"\"\n",
    "print []  and 90.455 #[]"
   ]
  },
  {
   "cell_type": "code",
   "execution_count": 10,
   "metadata": {},
   "outputs": [
    {
     "name": "stdout",
     "output_type": "stream",
     "text": [
      "0b1111011\n",
      "0b1010011\n",
      "0b1010011\n",
      "0b1001000111111\n"
     ]
    }
   ],
   "source": [
    "# Number  system Conversions\n",
    "'''\n",
    "===>> we can able to convert one number system to another number system\n",
    "'''\n",
    "# Number\n",
    "'''\n",
    "===>> Collection of digits \n",
    "'''\n",
    "# Number system\n",
    "'''\n",
    "===>>> The process of creating a number using set of digits\n",
    "'''\n",
    "# Types NS\n",
    "'''\n",
    "===>>> Binary number system ---->>  { 0, 1} ---->> base/ Radix --->> 2 \n",
    "    examples :-\n",
    "    ---------\n",
    "    human understands by radix/ base ---->>  (101010)2\n",
    "    computer understand --->> 0b  ------->>   0b101010\n",
    "    \n",
    "===>>> Octal Number system ---> {0,1,2,3,4,5,6,7} --->> base / Radix --->> 8\n",
    "\n",
    "    examples :-\n",
    "    ---------\n",
    "    human  --->>> (124)8\n",
    "    computer -->> 0o124 /  0124\n",
    "    \n",
    "===>> Decimal Number system --->>{0,1,2,3,4,5,6,7,8,9}--->> Base/Radix ---> 10\n",
    "    example\n",
    "    -------\n",
    "    human --->> (8769)10 /   8769\n",
    "    computer -->> 8769\n",
    "    \n",
    "===>> Hexa decimal system  --->> {0,1,2,3,4,5,6,7,8,9,a/A ,b/B,c/C,d/D,e/E/f/F} --->> Base / Radix -->> 16\n",
    "\n",
    "examples\n",
    "--------\n",
    "        human --->> (3df1)16\n",
    "        computer -->>  0x/ 0X3df1\n",
    "\n",
    "'''\n",
    "#### Number system conversion functions\n",
    "'''\n",
    "bin() --->>> any number system to binary number system\n",
    "oct() --->> any number system to octal number system\n",
    "int() --->> any number sytem to decimal number system\n",
    "hex() --->> any number system to hexa decimal number system\n",
    "'''\n",
    "print bin(123) # decimal to binary\n",
    "print bin(0123)#octak to binary\n",
    "print bin(0o123)# octal to binary\n",
    "print bin(0x123f)# hexa to bin"
   ]
  },
  {
   "cell_type": "code",
   "execution_count": 11,
   "metadata": {},
   "outputs": [
    {
     "name": "stdout",
     "output_type": "stream",
     "text": [
      "0173\n",
      "011077\n",
      "0125\n"
     ]
    }
   ],
   "source": [
    "print oct(123)# decimal to octal\n",
    "print oct(0x123f)#hex to oct\n",
    "print oct(0b1010101)# bin to hex"
   ]
  },
  {
   "cell_type": "code",
   "execution_count": 12,
   "metadata": {},
   "outputs": [
    {
     "name": "stdout",
     "output_type": "stream",
     "text": [
      "0x7b\n",
      "0x15\n",
      "0x53\n"
     ]
    }
   ],
   "source": [
    "print hex(123)# decimal to hex\n",
    "print hex(0b10101)# binary to hex\n",
    "print hex(0123)"
   ]
  },
  {
   "cell_type": "code",
   "execution_count": 15,
   "metadata": {},
   "outputs": [
    {
     "name": "stdout",
     "output_type": "stream",
     "text": [
      "9\n",
      "9\n",
      "291\n",
      "291\n",
      "83\n",
      "83\n"
     ]
    }
   ],
   "source": [
    "print int(0b1001)# binary to dec\n",
    "print int(\"0b1001\",2)\n",
    "print int(0x123)# hex to dec\n",
    "print int(\"0x123\",16)\n",
    "print int(0123)# octal to dec\n",
    "print int(\"0123\",8)"
   ]
  },
  {
   "cell_type": "code",
   "execution_count": null,
   "metadata": {},
   "outputs": [],
   "source": [
    "# Understand the number system  conversion"
   ]
  },
  {
   "cell_type": "code",
   "execution_count": 1,
   "metadata": {},
   "outputs": [
    {
     "name": "stdout",
     "output_type": "stream",
     "text": [
      "enter a year : 1900\n",
      "1900  is leap year :  False\n"
     ]
    }
   ],
   "source": [
    "# wap find the leap year or not\n",
    "year = input(\"enter a year : \")\n",
    "res = (year %4 ==0  and year%100 !=0)or (year %400 == 0)\n",
    "print year,\" is leap year : \",res"
   ]
  },
  {
   "cell_type": "code",
   "execution_count": 2,
   "metadata": {},
   "outputs": [
    {
     "name": "stdout",
     "output_type": "stream",
     "text": [
      "enter a year : 2000\n",
      "2000  is leap year :  True\n"
     ]
    }
   ],
   "source": [
    "# wap find the leap year or not\n",
    "year = input(\"enter a year : \")\n",
    "res = (year %4 ==0  and year%100 !=0)or (year %400 == 0)\n",
    "print year,\" is leap year : \",res"
   ]
  },
  {
   "cell_type": "code",
   "execution_count": 3,
   "metadata": {},
   "outputs": [
    {
     "name": "stdout",
     "output_type": "stream",
     "text": [
      "enter a year : 2008\n",
      "2008  is leap year :  True\n"
     ]
    }
   ],
   "source": [
    "# wap find the leap year or not\n",
    "year = input(\"enter a year : \")\n",
    "res = (year %4 ==0  and year%100 !=0)or (year %400 == 0)\n",
    "print year,\" is leap year : \",res"
   ]
  },
  {
   "cell_type": "code",
   "execution_count": 4,
   "metadata": {},
   "outputs": [
    {
     "name": "stdout",
     "output_type": "stream",
     "text": [
      "enter a year : 2003\n",
      "2003  is leap year :  False\n"
     ]
    }
   ],
   "source": [
    "# wap find the leap year or not\n",
    "year = input(\"enter a year : \")\n",
    "res = (year %4 ==0  and year%100 !=0)or (year %400 == 0)\n",
    "print year,\" is leap year : \",res"
   ]
  },
  {
   "cell_type": "code",
   "execution_count": 6,
   "metadata": {},
   "outputs": [
    {
     "name": "stdout",
     "output_type": "stream",
     "text": [
      "60\n",
      "126\n"
     ]
    }
   ],
   "source": [
    "# bitwise operator\n",
    "'''\n",
    "=====>>> bitwise operator steps\n",
    "\n",
    "1. input decimal ----->> binary inputs \n",
    "2. we have to do the operation on binary data\n",
    "3. bindary result ----->>> decimal result\n",
    "\n",
    "'''\n",
    "# bitwise OR operator  ----->>> |\n",
    "'''\n",
    "0   0 ---->> 0\n",
    "\n",
    "0   1----->> 1\n",
    "\n",
    "1   0----->> 1\n",
    "\n",
    "1   1------> 1\n",
    "'''\n",
    "print 56  | 44 #  60\n",
    "print 104 | 126 #"
   ]
  },
  {
   "cell_type": "code",
   "execution_count": 8,
   "metadata": {},
   "outputs": [
    {
     "name": "stdout",
     "output_type": "stream",
     "text": [
      "40\n",
      "104\n"
     ]
    }
   ],
   "source": [
    "# bitwise and operator  ----->>> &\n",
    "'''\n",
    "0   0 ---->> 0\n",
    "\n",
    "0   1----->> 0\n",
    "\n",
    "1   0----->> 0\n",
    "\n",
    "1   1------> 1\n",
    "'''\n",
    "print 56  & 44 #  \n",
    "print 104 & 126 #"
   ]
  },
  {
   "cell_type": "code",
   "execution_count": 10,
   "metadata": {},
   "outputs": [
    {
     "name": "stdout",
     "output_type": "stream",
     "text": [
      "20\n",
      "22\n"
     ]
    }
   ],
   "source": [
    "# bitwise Xor operator  ----->>> ^\n",
    "'''\n",
    "0   0 ---->> 0\n",
    "\n",
    "0   1----->> 1\n",
    "\n",
    "1   0----->> 1\n",
    "\n",
    "1   1------> 0\n",
    "'''\n",
    "print 56  ^ 44 #  \n",
    "print 104 ^ 126 #"
   ]
  },
  {
   "cell_type": "code",
   "execution_count": 11,
   "metadata": {},
   "outputs": [
    {
     "name": "stdout",
     "output_type": "stream",
     "text": [
      "352\n"
     ]
    }
   ],
   "source": [
    "#bitwise leftshift      num   <<  no_bit\n",
    "'''\n",
    "===>>> num ---->>> binary data\n",
    "===>>> to the binary add  no of no_bits of zero  at right side\n",
    "===>>> binary data ---->>> decimal num\n",
    "'''\n",
    "print 44 << 3\n",
    "print 56 << 1"
   ]
  },
  {
   "cell_type": "code",
   "execution_count": 12,
   "metadata": {},
   "outputs": [
    {
     "name": "stdout",
     "output_type": "stream",
     "text": [
      "5\n"
     ]
    }
   ],
   "source": [
    "#bitwise right shift      num   >>  no_bit\n",
    "'''\n",
    "===>>> num ---->>> binary data\n",
    "===>>> from the binary dat remove  no of no_bits  at right side\n",
    "===>>> binary data ---->>> decimal num\n",
    "'''\n",
    "print 44 >> 3\n",
    "#print 56 << 1"
   ]
  },
  {
   "cell_type": "code",
   "execution_count": 13,
   "metadata": {},
   "outputs": [
    {
     "name": "stdout",
     "output_type": "stream",
     "text": [
      "-11\n"
     ]
    }
   ],
   "source": [
    "# bitwise not   ~n  ====>>  - (n+1)\n",
    "'''\n",
    "===>> num ---->> binary number \n",
    "'''\n",
    "\n",
    "print ~10"
   ]
  },
  {
   "cell_type": "code",
   "execution_count": 15,
   "metadata": {},
   "outputs": [
    {
     "name": "stdout",
     "output_type": "stream",
     "text": [
      "-46\n",
      "-57\n"
     ]
    }
   ],
   "source": [
    "print ~45\n",
    "print ~56"
   ]
  },
  {
   "cell_type": "code",
   "execution_count": null,
   "metadata": {},
   "outputs": [],
   "source": [
    "### datatypes  ####\n",
    "####################\n",
    "\n",
    "###----"
   ]
  },
  {
   "cell_type": "code",
   "execution_count": null,
   "metadata": {},
   "outputs": [],
   "source": []
  }
 ],
 "metadata": {
  "kernelspec": {
   "display_name": "Python 2",
   "language": "python",
   "name": "python2"
  },
  "language_info": {
   "codemirror_mode": {
    "name": "ipython",
    "version": 2
   },
   "file_extension": ".py",
   "mimetype": "text/x-python",
   "name": "python",
   "nbconvert_exporter": "python",
   "pygments_lexer": "ipython2",
   "version": "2.7.16"
  }
 },
 "nbformat": 4,
 "nbformat_minor": 2
}
