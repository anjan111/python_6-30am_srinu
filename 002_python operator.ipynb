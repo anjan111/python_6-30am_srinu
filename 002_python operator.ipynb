{
 "cells": [
  {
   "cell_type": "markdown",
   "metadata": {},
   "source": [
    "# operator\n",
    "\n",
    "====>>> The symbols are used for to do the data processing on your data\n",
    "\n",
    "# Operation :-\n",
    "\n",
    "===>>> The Process of the doing the data processing \n",
    "\n",
    "# Operands\n",
    "\n",
    "===>>> The data with in the operation\n",
    "\n",
    "# Based on 2 ways \n",
    "\n",
    "1. Based on operands \n",
    "\n",
    "    1. unary operator\n",
    "    ----------------\n",
    "    \n",
    "    ===>>> A single operator operating on single data \n",
    "    \n",
    "        1. unary minus   -\n",
    "        \n",
    "        2. unary plus    +\n",
    "        \n",
    "        3. Logical Not   not\n",
    "        \n",
    "        4. bitwise not     ~\n",
    "    \n",
    "    \n",
    "    2. Binary operator\n",
    "    -------------------\n",
    "    \n",
    "    ===>>> A single operator operating on 2 operands \n",
    "    \n",
    "        1. addition \n",
    "        \n",
    "        2. sutraction\n",
    "\n",
    "2. based on operation :-\n",
    "-----------------------\n",
    "\n",
    "===>>> arithmetic Operator\n",
    "\n",
    "===>>  relational Operator\n",
    "\n",
    "===>>  Logical operator\n",
    "\n",
    "===>> Assignment Operator\n",
    "\n",
    "===>> Special operator\n",
    "\n",
    "===>> bitwise operator"
   ]
  },
  {
   "cell_type": "code",
   "execution_count": null,
   "metadata": {},
   "outputs": [],
   "source": []
  },
  {
   "cell_type": "code",
   "execution_count": 3,
   "metadata": {},
   "outputs": [
    {
     "name": "stdout",
     "output_type": "stream",
     "text": [
      "19\n",
      "-34\n",
      "-19\n",
      "34\n",
      "False\n",
      "True\n",
      "-35\n",
      "-1\n"
     ]
    }
   ],
   "source": [
    "#######################  Unary operator #############3\n",
    "# Unary minus\n",
    "\n",
    "a = -19\n",
    "b = 34\n",
    "print -a\n",
    "print -b\n",
    "\n",
    "# unary plus \n",
    "print +a\n",
    "print +b\n",
    "\n",
    "# logical not \n",
    "print not 34\n",
    "print not 0\n",
    "\n",
    "# bitwise not\n",
    "print ~34\n",
    "print ~0"
   ]
  },
  {
   "cell_type": "code",
   "execution_count": 4,
   "metadata": {},
   "outputs": [
    {
     "name": "stdout",
     "output_type": "stream",
     "text": [
      "13\n",
      "9\n",
      "22\n",
      "5\n"
     ]
    }
   ],
   "source": [
    "# binary operator\n",
    "a  = 11\n",
    "b = 2\n",
    "print  a+b\n",
    "print a -b\n",
    "print a*b\n",
    "print a/b\n"
   ]
  },
  {
   "cell_type": "code",
   "execution_count": 5,
   "metadata": {},
   "outputs": [
    {
     "name": "stdout",
     "output_type": "stream",
     "text": [
      "enter int : 11\n",
      "enter int : 2\n",
      "13\n",
      "9\n",
      "22\n",
      "5\n",
      "1\n"
     ]
    }
   ],
   "source": [
    "# Based on Operation\n",
    "\n",
    "# Arithmetic Operator\n",
    "'''\n",
    "===>> Addition       +\n",
    "===>> subtraction    -\n",
    "===>>  multiplication *\n",
    "===>> Division        /\n",
    "===>> Modulus         %\n",
    "'''\n",
    "a = input(\"enter int : \")\n",
    "b = input(\"enter int : \")\n",
    "print a+b\n",
    "print a-b\n",
    "print a*b\n",
    "print a/b\n",
    "print a%b\n"
   ]
  },
  {
   "cell_type": "code",
   "execution_count": 6,
   "metadata": {},
   "outputs": [
    {
     "name": "stdout",
     "output_type": "stream",
     "text": [
      "enter float : 11.0\n",
      "enter float : 2.0\n",
      "13.0\n",
      "9.0\n",
      "22.0\n",
      "5.5\n",
      "1.0\n"
     ]
    }
   ],
   "source": [
    "a = input(\"enter float : \")\n",
    "b = input(\"enter float : \")\n",
    "print a+b\n",
    "print a-b\n",
    "print a*b\n",
    "print a/b\n",
    "print a%b\n"
   ]
  },
  {
   "cell_type": "code",
   "execution_count": 8,
   "metadata": {},
   "outputs": [
    {
     "name": "stdout",
     "output_type": "stream",
     "text": [
      "enter int : 11\n",
      "enter int : 5\n",
      "2\n",
      "2\n",
      "enter float : 11.0\n",
      "enter float : 2.0\n",
      "5.5\n",
      "5.0\n"
     ]
    }
   ],
   "source": [
    "# exponant   **\n",
    "# floor devision  //\n",
    "a = input(\"enter int : \")\n",
    "b = input(\"enter int : \")\n",
    "print a/b\n",
    "print a//b\n",
    "a = input(\"enter float : \")\n",
    "b = input(\"enter float : \")\n",
    "print a/b\n",
    "print a//b\n",
    "\n",
    "\n",
    "\n"
   ]
  },
  {
   "cell_type": "code",
   "execution_count": null,
   "metadata": {},
   "outputs": [],
   "source": []
  },
  {
   "cell_type": "code",
   "execution_count": 7,
   "metadata": {},
   "outputs": [
    {
     "name": "stdout",
     "output_type": "stream",
     "text": [
      "enter int : 10\n",
      "enter int : 2\n",
      "12\n",
      "8\n",
      "20\n",
      "5\n",
      "0\n",
      "100\n"
     ]
    }
   ],
   "source": [
    "a = input(\"enter int : \")\n",
    "b = input(\"enter int : \")\n",
    "print a+b\n",
    "print a-b\n",
    "print a*b\n",
    "print a/b\n",
    "print a%b\n",
    "print a ** b  # a power of b"
   ]
  },
  {
   "cell_type": "code",
   "execution_count": 9,
   "metadata": {},
   "outputs": [
    {
     "name": "stdout",
     "output_type": "stream",
     "text": [
      "enter rad of circle in meters : 5.5\n",
      "area :  95.0714285714  sq.m\n"
     ]
    }
   ],
   "source": [
    "# wap find the area of circle\n",
    "'''\n",
    "area = pi*(r**2)\n",
    "'''\n",
    "r = input(\"enter rad of circle in meters : \")\n",
    "pi = 22.0/7\n",
    "area = pi*(r**2)\n",
    "print \"area : \",area,\" sq.m\""
   ]
  },
  {
   "cell_type": "code",
   "execution_count": null,
   "metadata": {},
   "outputs": [],
   "source": [
    "# wap find the area of square"
   ]
  },
  {
   "cell_type": "code",
   "execution_count": 10,
   "metadata": {},
   "outputs": [],
   "source": [
    "# wap find the area of rectangle"
   ]
  },
  {
   "cell_type": "code",
   "execution_count": 11,
   "metadata": {},
   "outputs": [],
   "source": [
    "# wap find the area of triangle"
   ]
  },
  {
   "cell_type": "code",
   "execution_count": 12,
   "metadata": {},
   "outputs": [],
   "source": [
    "# wap converts radian to degrees vice versa "
   ]
  },
  {
   "cell_type": "code",
   "execution_count": 13,
   "metadata": {},
   "outputs": [],
   "source": [
    "# wap find area and volume of cube "
   ]
  },
  {
   "cell_type": "code",
   "execution_count": 14,
   "metadata": {},
   "outputs": [],
   "source": [
    "# wap find the simple interst "
   ]
  },
  {
   "cell_type": "markdown",
   "metadata": {},
   "source": [
    "# Relational operator\n",
    "\n",
    "===>> To compare any two opearands --->> comparision oper\n",
    "\n",
    "===>> To give the relationship between any 2 operands \n",
    "\n",
    "===>> we can use with conditional statements as a condition\n",
    "\n",
    "# types \n",
    "\n",
    "1. lessthan   <\n",
    "\n",
    "2. greaterthan >\n",
    "\n",
    "3. equal to   ==\n",
    "\n",
    "4. not equal  !=\n",
    "\n",
    "5. lessthan or equal to  <=\n",
    "\n",
    "6. greaterthan or equal to  >="
   ]
  },
  {
   "cell_type": "code",
   "execution_count": 15,
   "metadata": {},
   "outputs": [
    {
     "name": "stdout",
     "output_type": "stream",
     "text": [
      "enter int : 14\n",
      "enter int : 14\n",
      "False\n",
      "False\n",
      "True\n",
      "False\n",
      "True\n",
      "True\n"
     ]
    }
   ],
   "source": [
    "a = input(\"enter int : \")\n",
    "b = input(\"enter int : \")\n",
    "print a<b\n",
    "print a>b\n",
    "print a==b\n",
    "print a!=b\n",
    "print a<=b\n",
    "print a >=b\n"
   ]
  },
  {
   "cell_type": "code",
   "execution_count": 17,
   "metadata": {},
   "outputs": [
    {
     "name": "stdout",
     "output_type": "stream",
     "text": [
      "enter some : 15\n",
      "5  is the factor of  15  is  True\n"
     ]
    }
   ],
   "source": [
    "# wap find the given number factor of 5 or not\n",
    "num = input(\"enter some : \")\n",
    "print 5,\" is the factor of \",num,\" is \",(num%5==0)"
   ]
  },
  {
   "cell_type": "code",
   "execution_count": null,
   "metadata": {},
   "outputs": [],
   "source": [
    "# wap given number is even number or not "
   ]
  },
  {
   "cell_type": "code",
   "execution_count": null,
   "metadata": {},
   "outputs": [],
   "source": [
    "# wap given number is negative or not"
   ]
  },
  {
   "cell_type": "code",
   "execution_count": null,
   "metadata": {},
   "outputs": [],
   "source": []
  }
 ],
 "metadata": {
  "kernelspec": {
   "display_name": "Python 2",
   "language": "python",
   "name": "python2"
  },
  "language_info": {
   "codemirror_mode": {
    "name": "ipython",
    "version": 2
   },
   "file_extension": ".py",
   "mimetype": "text/x-python",
   "name": "python",
   "nbconvert_exporter": "python",
   "pygments_lexer": "ipython2",
   "version": "2.7.16"
  }
 },
 "nbformat": 4,
 "nbformat_minor": 2
}
