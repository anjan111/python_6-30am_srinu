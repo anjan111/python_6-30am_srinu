{
 "cells": [
  {
   "cell_type": "markdown",
   "metadata": {},
   "source": [
    "statement : An instruction which can be executbale\n",
    "\n",
    "program :- collection of statements to do any one specific task\n",
    "\n",
    "the flow of execution of the program is statement by statement \n",
    "\n",
    "===>>>  Control statement \n",
    "\n",
    "===>>> we can change the flow of execution of the program\n",
    "\n",
    "1. conditional statement\n",
    "\n",
    "====>>>  The statements execution which can depends on condition\n",
    "\n",
    "        1. simple if \n",
    "        \n",
    "        2. if and else \n",
    "        \n",
    "        3. nested if \n",
    "        \n",
    "        4. elif ladder\n",
    "\n",
    "2. looping statement\n",
    "\n",
    "3. control keywords "
   ]
  },
  {
   "cell_type": "code",
   "execution_count": 2,
   "metadata": {},
   "outputs": [
    {
     "name": "stdout",
     "output_type": "stream",
     "text": [
      "enter age : 16\n"
     ]
    }
   ],
   "source": [
    "# wap print your details when age is more than 18\n",
    "age = input(\"enter age : \")\n",
    "if (age >= 18):\n",
    "    print \"name : anjan\"\n",
    "    print \"phone: 09640 987 960\"\n",
    "    print \"mail : socsoftech@gmail.com\""
   ]
  },
  {
   "cell_type": "code",
   "execution_count": 4,
   "metadata": {},
   "outputs": [
    {
     "name": "stdout",
     "output_type": "stream",
     "text": [
      "enter side : 45\n"
     ]
    }
   ],
   "source": [
    "# wap fins area of circle when the side is float\n",
    "side = input(\"enter side : \")\n",
    "if (isinstance(side,float)):\n",
    "    area = side ** 2\n",
    "    print \"area : \",area,\" sq m\""
   ]
  },
  {
   "cell_type": "code",
   "execution_count": 5,
   "metadata": {},
   "outputs": [],
   "source": [
    "# wap print given number is possible for factorial when its possible"
   ]
  },
  {
   "cell_type": "code",
   "execution_count": 7,
   "metadata": {},
   "outputs": [
    {
     "name": "stdout",
     "output_type": "stream",
     "text": [
      "enter side : 16\n",
      "its even number so :\n",
      "area :  256\n"
     ]
    }
   ],
   "source": [
    "# if and else : \n",
    "#wap find the area  of sqaure when side is even otherwise find perimeter\n",
    "\n",
    "side = input(\"enter side : \")\n",
    "if(side%2 == 0):\n",
    "    print \"its even number so :\"\n",
    "    print \"area : \",side **2\n",
    "else:\n",
    "    print \"its a odd number so : \"\n",
    "    print \"perimeter : \",4*side"
   ]
  },
  {
   "cell_type": "code",
   "execution_count": 10,
   "metadata": {},
   "outputs": [
    {
     "name": "stdout",
     "output_type": "stream",
     "text": [
      "enter a number : -9\n",
      "factorial is not possible\n"
     ]
    }
   ],
   "source": [
    "# wap print given number is factorial is possible or not\n",
    "num = input(\"enter a number : \")\n",
    "if(num >= 0 ):\n",
    "    print \"factorial is possible\"\n",
    "else:\n",
    "    print \"factorial is not possible\""
   ]
  },
  {
   "cell_type": "code",
   "execution_count": null,
   "metadata": {},
   "outputs": [],
   "source": [
    "#apply the voter id application "
   ]
  },
  {
   "cell_type": "code",
   "execution_count": 15,
   "metadata": {},
   "outputs": [
    {
     "name": "stdout",
     "output_type": "stream",
     "text": [
      "enter exp : 20\n",
      "salary 1 cr \n"
     ]
    }
   ],
   "source": [
    "# wap fix the salry based on your exeperience \n",
    "exp = input(\"enter exp : \")\n",
    "if(exp >0 and exp <=2):\n",
    "    print \"salary  3 lac \"\n",
    "elif(exp >2 and exp <= 4):\n",
    "    print \"salary 6 lac \"\n",
    "elif(exp >4 and exp <=6):\n",
    "    print \"salary 8 lac \"\n",
    "elif( exp >6 and exp <=10):\n",
    "    print \"salary 25 lac\"\n",
    "elif(exp >10 and exp <= 15):\n",
    "    print \"salary 45 lac\"\n",
    "elif(exp >15):\n",
    "    print \"salary 1 cr \"\n",
    "else:\n",
    "    print  \"please give proper exp\""
   ]
  },
  {
   "cell_type": "code",
   "execution_count": null,
   "metadata": {},
   "outputs": [],
   "source": [
    "# wap find grading system based on student percentage"
   ]
  },
  {
   "cell_type": "code",
   "execution_count": 16,
   "metadata": {},
   "outputs": [
    {
     "name": "stdout",
     "output_type": "stream",
     "text": [
      "enter a :45\n",
      "enter b :56\n",
      "enter c :12\n",
      "small :  12\n"
     ]
    }
   ],
   "source": [
    "# nested if \n",
    "# wap find the smallest number 3 numbers\n",
    "a = input(\"enter a :\")\n",
    "b = input(\"enter b :\")\n",
    "c = input(\"enter c :\")\n",
    "if(a > b):\n",
    "    small = b\n",
    "    if( small > c):\n",
    "        small = c\n",
    "else:\n",
    "    small = a\n",
    "    if(small > c):\n",
    "        small =c\n",
    "print \"small : \",small"
   ]
  },
  {
   "cell_type": "code",
   "execution_count": null,
   "metadata": {},
   "outputs": [],
   "source": [
    "# wap find the biggest  number from 3 numbers"
   ]
  },
  {
   "cell_type": "code",
   "execution_count": 1,
   "metadata": {},
   "outputs": [],
   "source": [
    "# wap find the leap year "
   ]
  },
  {
   "cell_type": "code",
   "execution_count": 7,
   "metadata": {},
   "outputs": [
    {
     "name": "stdout",
     "output_type": "stream",
     "text": [
      "enter Last numbers5\n",
      "1     2     3     4     5     \n",
      "while loop condition was failed \n"
     ]
    }
   ],
   "source": [
    "# wap print the 1st natural N numbers\n",
    "#10  ===>>> 1  2   3  4  5   6  7  8  9  10\n",
    "N = input(\"enter Last numbers\")\n",
    "i = 1\n",
    "while(i <= N):\n",
    "    print i,\"   \",\n",
    "    i = i + 1\n",
    "else:\n",
    "    print \"\\nwhile loop condition was failed \""
   ]
  },
  {
   "cell_type": "code",
   "execution_count": null,
   "metadata": {},
   "outputs": [],
   "source": [
    "# wap find the factorial of a number "
   ]
  },
  {
   "cell_type": "code",
   "execution_count": null,
   "metadata": {},
   "outputs": [],
   "source": [
    "# 7:30 am link is differnt \n",
    "\n",
    "### you can msg me on whats app\n",
    "#09640 987 960"
   ]
  },
  {
   "cell_type": "code",
   "execution_count": null,
   "metadata": {},
   "outputs": [],
   "source": []
  }
 ],
 "metadata": {
  "kernelspec": {
   "display_name": "Python 2",
   "language": "python",
   "name": "python2"
  },
  "language_info": {
   "codemirror_mode": {
    "name": "ipython",
    "version": 2
   },
   "file_extension": ".py",
   "mimetype": "text/x-python",
   "name": "python",
   "nbconvert_exporter": "python",
   "pygments_lexer": "ipython2",
   "version": "2.7.16"
  }
 },
 "nbformat": 4,
 "nbformat_minor": 2
}
